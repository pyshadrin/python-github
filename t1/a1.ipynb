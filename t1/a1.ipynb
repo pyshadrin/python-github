{
 "cells": [
  {
   "cell_type": "code",
   "execution_count": null,
   "id": "f14a3ddb-1622-4fdd-b153-2401fabcceb6",
   "metadata": {
    "editable": true,
    "slideshow": {
     "slide_type": ""
    },
    "tags": []
   },
   "outputs": [],
   "source": [
    "# Получаем ввод от пользователя\n",
    "word = input(\"Введите слово: \")\n",
    "\n",
    "# Выводим введенное слово\n",
    "print(\"Введенное слово:\", word)"
   ]
  },
  {
   "cell_type": "code",
   "execution_count": null,
   "id": "cc09d2a9-782c-4fb4-adaa-f66f2e6a7a5d",
   "metadata": {},
   "outputs": [],
   "source": [
    "# Считаем длину слова\n",
    "length_word = len(word)\n",
    "\n",
    "# Выводим длину слова\n",
    "print(\"Длина слова:\", length_word) "
   ]
  },
  {
   "cell_type": "code",
   "execution_count": null,
   "id": "e4253d93-6908-498f-bf50-c59d766d8be3",
   "metadata": {},
   "outputs": [],
   "source": [
    "# Определяем четность числа\n",
    "if length_word % 2 == 0:\n",
    "    print(\"Число\", length_word, \"четное.\")\n",
    "    # Выводим пару средних букв\n",
    "    middle_letter = word[length_word // 2 - 1] + word[length_word // 2]\n",
    "    print(\"Средняя буква:\", middle_letter)\n",
    "else:\n",
    "    print(\"Число\", length_word, \"нечетное.\")\n",
    "    # Выводим среднюю букву\n",
    "    middle_letter = word[length_word // 2]\n",
    "    print(\"Средняя буква:\", middle_letter)"
   ]
  }
 ],
 "metadata": {
  "kernelspec": {
   "display_name": "Python 3 (ipykernel)",
   "language": "python",
   "name": "python3"
  },
  "language_info": {
   "codemirror_mode": {
    "name": "ipython",
    "version": 3
   },
   "file_extension": ".py",
   "mimetype": "text/x-python",
   "name": "python",
   "nbconvert_exporter": "python",
   "pygments_lexer": "ipython3",
   "version": "3.12.7"
  }
 },
 "nbformat": 4,
 "nbformat_minor": 5
}
