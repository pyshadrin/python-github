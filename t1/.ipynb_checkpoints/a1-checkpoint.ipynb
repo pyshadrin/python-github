{
 "cells": [
  {
   "cell_type": "code",
   "execution_count": 48,
   "id": "68297532-2b8d-4be5-9461-ab72d7bf0d36",
   "metadata": {
    "editable": true,
    "slideshow": {
     "slide_type": ""
    },
    "tags": []
   },
   "outputs": [
    {
     "name": "stdin",
     "output_type": "stream",
     "text": [
      "Введите слово:  Капиттолий\n"
     ]
    },
    {
     "name": "stdout",
     "output_type": "stream",
     "text": [
      "Введенное слово: Капиттолий\n"
     ]
    }
   ],
   "source": [
    "# Получаем ввод от пользователя\n",
    "word = input(\"Введите слово: \")\n",
    "\n",
    "# Выводим введенное слово\n",
    "print(\"Введенное слово:\", word)"
   ]
  },
  {
   "cell_type": "code",
   "execution_count": 50,
   "id": "0cdac1a8-d7cd-47c8-8673-ffce046f9866",
   "metadata": {},
   "outputs": [
    {
     "name": "stdout",
     "output_type": "stream",
     "text": [
      "Длина слова: 10\n"
     ]
    }
   ],
   "source": [
    "# Считаем длину слова\n",
    "length_word = len(word)\n",
    "\n",
    "# Выводим длину слова\n",
    "print(\"Длина слова:\", length_word) "
   ]
  },
  {
   "cell_type": "code",
   "execution_count": 52,
   "id": "c41d7237-f034-4c6d-808e-bd5a6c12b437",
   "metadata": {},
   "outputs": [
    {
     "name": "stdout",
     "output_type": "stream",
     "text": [
      "Число 10 четное.\n",
      "Средняя буква: тт\n"
     ]
    }
   ],
   "source": [
    "# Определяем четность числа\n",
    "if length_word % 2 == 0:\n",
    "    print(\"Число\", length_word, \"четное.\")\n",
    "# Выводим пару средних букв\n",
    "    middle_letter = word[length_word // 2 - 1] + word[length_word // 2]\n",
    "    print(\"Средняя буква:\", middle_letter)\n",
    "else:\n",
    "    print(\"Число\", length_word, \"нечетное.\")\n",
    "# Выводим среднюю букву\n",
    "    middle_letter = word[length_word // 2]\n",
    "    print(\"Средняя буква:\", middle_letter)"
   ]
  },
  {
   "cell_type": "code",
   "execution_count": null,
   "id": "482484b9-885e-4516-a5a4-8787ebf17a83",
   "metadata": {},
   "outputs": [],
   "source": []
  }
 ],
 "metadata": {
  "kernelspec": {
   "display_name": "Python 3 (ipykernel)",
   "language": "python",
   "name": "python3"
  },
  "language_info": {
   "codemirror_mode": {
    "name": "ipython",
    "version": 3
   },
   "file_extension": ".py",
   "mimetype": "text/x-python",
   "name": "python",
   "nbconvert_exporter": "python",
   "pygments_lexer": "ipython3",
   "version": "3.12.7"
  }
 },
 "nbformat": 4,
 "nbformat_minor": 5
}
