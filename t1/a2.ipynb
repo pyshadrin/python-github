{
 "cells": [
  {
   "cell_type": "code",
   "execution_count": null,
   "id": "cd1e81e5-8fb3-44bc-8ea2-09459ef48d5b",
   "metadata": {},
   "outputs": [],
   "source": [
    "# Вводные данные\n",
    "boys = ['Peter', 'Alex', 'John', 'Arthur', 'Richard']\n",
    "girls = ['Kate', 'Liza', 'Kira', 'Emma', 'Trisha']\n",
    "#girls = ['Kate', 'Liza', 'Kira', 'Emma', 'Trisha', 'Anna']"
   ]
  },
  {
   "cell_type": "code",
   "execution_count": null,
   "id": "0890a0e3-4414-4d70-9a51-996f35fa3e02",
   "metadata": {},
   "outputs": [],
   "source": [
    "# Сортируем списки по алфавиту\n",
    "boys.sort()\n",
    "girls.sort()\n",
    "\n",
    "# Выводим отсортированные списки\n",
    "print(boys)\n",
    "print(girls)"
   ]
  },
  {
   "cell_type": "code",
   "execution_count": null,
   "id": "45581839-6235-4c51-8e74-16da3b09b700",
   "metadata": {},
   "outputs": [],
   "source": [
    "# Создаем пары с одинаковыми индексами\n",
    "pairs = list(zip(boys, girls))"
   ]
  },
  {
   "cell_type": "code",
   "execution_count": null,
   "id": "dc356906-8cfb-4e13-bf6a-a1a3493bdc65",
   "metadata": {},
   "outputs": [],
   "source": [
    "# Проверяем, все ли пары созданы\n",
    "if len(boys) == len(girls):\n",
    "    # Выводим результат\n",
    "    print(\"Идеальные пары:\")\n",
    "    for pair in pairs:\n",
    "        print(pair)\n",
    "else:\n",
    "    print(\"Результат: Внимание, кто-то может остаться без пары!\")"
   ]
  }
 ],
 "metadata": {
  "kernelspec": {
   "display_name": "Python 3 (ipykernel)",
   "language": "python",
   "name": "python3"
  },
  "language_info": {
   "codemirror_mode": {
    "name": "ipython",
    "version": 3
   },
   "file_extension": ".py",
   "mimetype": "text/x-python",
   "name": "python",
   "nbconvert_exporter": "python",
   "pygments_lexer": "ipython3",
   "version": "3.12.7"
  }
 },
 "nbformat": 4,
 "nbformat_minor": 5
}
