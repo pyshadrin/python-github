{
 "cells": [
  {
   "cell_type": "code",
   "execution_count": null,
   "id": "fd57dfa0-ad1c-4f12-929d-bf0973dc1119",
   "metadata": {},
   "outputs": [],
   "source": [
    "# Вводные данные\n",
    "queries = [\n",
    "'смотреть сериалы онлайн',\n",
    "'новости спорта',\n",
    "'афиша кино',\n",
    "'курс доллара',\n",
    "'сериалы этим летом',\n",
    "'курс по питону',\n",
    "'сериалы про спорт',\n",
    "]\n",
    "\n",
    "# Создаем переменную для хранения длинны словаря\n",
    "length_quries = len(queries)"
   ]
  },
  {
   "cell_type": "code",
   "execution_count": null,
   "id": "e8cbd1b3-a57a-4aa9-8603-de52b0282c4d",
   "metadata": {},
   "outputs": [],
   "source": [
    "# Создаем переменную для хранения отдельного запроса\n",
    "words = []\n",
    "\n",
    "# Создаем переменные для количества слов в запросе\n",
    "words_2 = 0\n",
    "words_3 = 0\n",
    "\n",
    "# Проходим по словарю и определям количество запросов с разной длинной запроса\n",
    "for values in queries:\n",
    "    words = values.split()\n",
    "    if len(words) == 2:\n",
    "        words_2 += 1\n",
    "    if len(words) == 3:\n",
    "        words_3 += 1\n",
    "\n",
    "# Вычисляем процентное соотношение для разных типов запросов\n",
    "percent_2 = round(words_2 / length_quries * 100, 2)\n",
    "percent_3 = round(words_3 / length_quries * 100, 2)\n",
    "\n",
    "# Формируем результат\n",
    "print(f\"Поисковых запросов, содержащих 2 слов(а): {percent_2}%\")\n",
    "print(f\"Поисковых запросов, содержащих 3 слов(а): {percent_3}%\")"
   ]
  }
 ],
 "metadata": {
  "kernelspec": {
   "display_name": "Python 3 (ipykernel)",
   "language": "python",
   "name": "python3"
  },
  "language_info": {
   "codemirror_mode": {
    "name": "ipython",
    "version": 3
   },
   "file_extension": ".py",
   "mimetype": "text/x-python",
   "name": "python",
   "nbconvert_exporter": "python",
   "pygments_lexer": "ipython3",
   "version": "3.12.7"
  }
 },
 "nbformat": 4,
 "nbformat_minor": 5
}
