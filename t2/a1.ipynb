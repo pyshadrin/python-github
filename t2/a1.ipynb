{
 "cells": [
  {
   "cell_type": "code",
   "execution_count": null,
   "id": "cfc367fd-cc2d-4afe-9c1f-a6e27d4b68c5",
   "metadata": {},
   "outputs": [],
   "source": [
    "# Вводные данные\n",
    "ids = {'user1': [213, 213, 213, 15, 213], \n",
    "       'user2': [54, 54, 119, 119, 119], \n",
    "       'user3': [213, 98, 98, 35]}"
   ]
  },
  {
   "cell_type": "code",
   "execution_count": null,
   "id": "8169d0b1-d35e-4ecd-b694-051a94728427",
   "metadata": {},
   "outputs": [],
   "source": [
    "# Создаем множество для добавления гео-меток\n",
    "mark = set()\n",
    "\n",
    "# Пройдемся по словарю и добавим каждой значение во множество\n",
    "for user, values in ids.items():\n",
    "    for value in values:\n",
    "        mark.add(value)\n",
    "\n",
    "# Выводим результат\n",
    "print(f\"Результат: {mark}\")"
   ]
  }
 ],
 "metadata": {
  "kernelspec": {
   "display_name": "Python 3 (ipykernel)",
   "language": "python",
   "name": "python3"
  },
  "language_info": {
   "codemirror_mode": {
    "name": "ipython",
    "version": 3
   },
   "file_extension": ".py",
   "mimetype": "text/x-python",
   "name": "python",
   "nbconvert_exporter": "python",
   "pygments_lexer": "ipython3",
   "version": "3.12.7"
  }
 },
 "nbformat": 4,
 "nbformat_minor": 5
}
