{
 "cells": [
  {
   "cell_type": "code",
   "execution_count": null,
   "id": "e9fbee7d-e6bb-406d-852c-75aab04152d3",
   "metadata": {},
   "outputs": [],
   "source": [
    "file = open('purchase_log.txt', 'r', encoding='utf-8')\n",
    "\n",
    "print(file)"
   ]
  },
  {
   "cell_type": "code",
   "execution_count": null,
   "id": "403ca48c-438d-4dfc-a114-bbde20b437d6",
   "metadata": {},
   "outputs": [],
   "source": [
    "file.__sizeof__()"
   ]
  },
  {
   "cell_type": "code",
   "execution_count": null,
   "id": "9d221662-bbec-4710-ac31-31b5ef1cc7ff",
   "metadata": {},
   "outputs": [],
   "source": [
    "file.readline()"
   ]
  },
  {
   "cell_type": "code",
   "execution_count": null,
   "id": "5545f7d9-cef9-420c-aace-102452625ccd",
   "metadata": {},
   "outputs": [],
   "source": [
    "next(file)"
   ]
  },
  {
   "cell_type": "code",
   "execution_count": null,
   "id": "e3520664-18ca-49d5-a349-3ea8877ba3dd",
   "metadata": {},
   "outputs": [],
   "source": [
    "content = file.readlines()\n",
    "\n",
    "content[:5]"
   ]
  },
  {
   "cell_type": "code",
   "execution_count": null,
   "id": "a78c7eb9-e3b7-405f-b853-a776688b80d1",
   "metadata": {},
   "outputs": [],
   "source": [
    "content[-1]"
   ]
  },
  {
   "cell_type": "code",
   "execution_count": null,
   "id": "3dc38834-e7d7-47d1-9fe1-ec9837ace1c4",
   "metadata": {},
   "outputs": [],
   "source": [
    "file.seek(0)"
   ]
  },
  {
   "cell_type": "code",
   "execution_count": null,
   "id": "61297965-7420-4db3-83c2-65573f4c813f",
   "metadata": {},
   "outputs": [],
   "source": [
    "for i, line in enumerate(file):\n",
    "    print(i, line)\n",
    "\n",
    "    if i > 5:\n",
    "        break"
   ]
  },
  {
   "cell_type": "code",
   "execution_count": 1,
   "id": "cc419271-711b-49e2-8cb6-da9ca16976e0",
   "metadata": {},
   "outputs": [
    {
     "name": "stderr",
     "output_type": "stream",
     "text": [
      "IOPub data rate exceeded.\n",
      "The Jupyter server will temporarily stop sending output\n",
      "to the client in order to avoid crashing it.\n",
      "To change this limit, set the config variable\n",
      "`--ServerApp.iopub_data_rate_limit`.\n",
      "\n",
      "Current values:\n",
      "ServerApp.iopub_data_rate_limit=1000000.0 (bytes/sec)\n",
      "ServerApp.rate_limit_window=3.0 (secs)\n",
      "\n"
     ]
    }
   ],
   "source": [
    "import json\n",
    "\n",
    "with open('purchase_log.txt', 'r') as file:\n",
    "    purchases = {}\n",
    "    for line in file:\n",
    "        data = json.loads(line)\n",
    "        user_id = data['user_id']\n",
    "        category = data['category']\n",
    "        purchases[user_id] = category\n",
    "\n",
    "print(purchases)"
   ]
  },
  {
   "cell_type": "code",
   "execution_count": null,
   "id": "cc00bbec-7a39-4c6b-aceb-08363c7f9c24",
   "metadata": {},
   "outputs": [],
   "source": []
  }
 ],
 "metadata": {
  "kernelspec": {
   "display_name": "Python 3 (ipykernel)",
   "language": "python",
   "name": "python3"
  },
  "language_info": {
   "codemirror_mode": {
    "name": "ipython",
    "version": 3
   },
   "file_extension": ".py",
   "mimetype": "text/x-python",
   "name": "python",
   "nbconvert_exporter": "python",
   "pygments_lexer": "ipython3",
   "version": "3.12.7"
  }
 },
 "nbformat": 4,
 "nbformat_minor": 5
}
