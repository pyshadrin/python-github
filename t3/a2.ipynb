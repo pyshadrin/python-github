{
 "cells": [
  {
   "cell_type": "code",
   "execution_count": null,
   "id": "90f49ae0-a3b3-4dca-a13f-d37c47ca7ca7",
   "metadata": {},
   "outputs": [],
   "source": [
    "def trim_and_repeat(string,offset=0,repetitions=1):\n",
    "    \"\"\"\n",
    "    Передаем строку и два параметра в формате trim_and_repeat(string: str,offset: int,repetitions: int)\n",
    "    Параметр offset определяет число символов на которое нужно обрезать строку слева\n",
    "    Если параметр offset не передан, то он равен 0\n",
    "    Параметр repetitions определяет число повторений строки для возврата результата\n",
    "    Если параметр repetitions не передан, то он равен 1\n",
    "    \"\"\"\n",
    "    result = string[offset:] * repetitions\n",
    "    return result\n",
    "\n",
    "test_string0 = trim_and_repeat(\"1234567890\")\n",
    "test_string1 = trim_and_repeat(\"1234567890\",offset=2,repetitions=1)\n",
    "test_string2 = trim_and_repeat(\"1234567890\",repetitions=3)\n",
    "test_string3 = trim_and_repeat(\"1234567890\",offset=3)\n",
    "test_string4 = trim_and_repeat(\"\",offset=52,repetitions=10)\n",
    "print(test_string0)\n",
    "print(test_string1)\n",
    "print(test_string2)\n",
    "print(test_string3)\n",
    "print(test_string4)"
   ]
  },
  {
   "cell_type": "code",
   "execution_count": null,
   "id": "ab0324ce-8e85-4062-ab80-014e6a4d3e8b",
   "metadata": {},
   "outputs": [],
   "source": []
  }
 ],
 "metadata": {
  "kernelspec": {
   "display_name": "Python 3 (ipykernel)",
   "language": "python",
   "name": "python3"
  },
  "language_info": {
   "codemirror_mode": {
    "name": "ipython",
    "version": 3
   },
   "file_extension": ".py",
   "mimetype": "text/x-python",
   "name": "python",
   "nbconvert_exporter": "python",
   "pygments_lexer": "ipython3",
   "version": "3.12.7"
  }
 },
 "nbformat": 4,
 "nbformat_minor": 5
}
