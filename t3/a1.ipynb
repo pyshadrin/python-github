{
 "cells": [
  {
   "cell_type": "code",
   "execution_count": null,
   "id": "0b3a1a7d-ab26-416f-a857-f753626a058e",
   "metadata": {},
   "outputs": [],
   "source": [
    "# Создаем функцию для подсчета чисел из переданного диапазона\n",
    "def sum_distance(start,finish):\n",
    "    \"\"\"\n",
    "    Передаем два числа в формате sum_distance(start: int,finish: int)\n",
    "    Подсчитывается сумма всех чисел в диапазоне start и finish\n",
    "    В сумму включены числа start и finish\n",
    "    Числа могут быть любый целые.\n",
    "    Функция определяет наименьшее и наибольшее из переданных и производит расчет.\n",
    "    \n",
    "    \"\"\"\n",
    "    result = 0\n",
    "    if start <= finish:\n",
    "        for num in range(start, finish + 1):\n",
    "            result += num\n",
    "        return result\n",
    "    else:\n",
    "        for num in range(finish, start + 1):\n",
    "            result += num\n",
    "        return result\n",
    "\n",
    "test_distance1 = sum_distance(5,2)\n",
    "test_distance2 = sum_distance(0,2)\n",
    "test_distance3 = sum_distance(356,167)\n",
    "\n",
    "print(f\"distance = {test_distance1}\")\n",
    "print(f\"distance = {test_distance2}\")\n",
    "print(f\"distance = {test_distance3}\")"
   ]
  },
  {
   "cell_type": "code",
   "execution_count": null,
   "id": "aa8b47ec-f1a0-4bef-8885-e2877c35e091",
   "metadata": {},
   "outputs": [],
   "source": [
    "?sum_distance"
   ]
  }
 ],
 "metadata": {
  "kernelspec": {
   "display_name": "Python 3 (ipykernel)",
   "language": "python",
   "name": "python3"
  },
  "language_info": {
   "codemirror_mode": {
    "name": "ipython",
    "version": 3
   },
   "file_extension": ".py",
   "mimetype": "text/x-python",
   "name": "python",
   "nbconvert_exporter": "python",
   "pygments_lexer": "ipython3",
   "version": "3.12.7"
  }
 },
 "nbformat": 4,
 "nbformat_minor": 5
}
